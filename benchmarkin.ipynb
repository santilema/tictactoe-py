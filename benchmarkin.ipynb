{
 "cells": [
  {
   "cell_type": "markdown",
   "metadata": {},
   "source": [
    "Import required modules"
   ]
  },
  {
   "cell_type": "code",
   "execution_count": 17,
   "metadata": {},
   "outputs": [],
   "source": [
    "from model import Model\n",
    "from ai_bots import RandomBot, UnbeatableBot\n",
    "import numpy as np"
   ]
  },
  {
   "cell_type": "markdown",
   "metadata": {},
   "source": [
    "I create one list for every possible level of filling of the board. E.g. if the board is a 3x3 matrix, there will be 9 diferent lists with 12 examples of different boards in each one of them."
   ]
  },
  {
   "cell_type": "code",
   "execution_count": 18,
   "metadata": {},
   "outputs": [],
   "source": [
    "test_model = Model(300, 3)\n",
    "simulated_boards = []\n",
    "\n",
    "for remaining_squares in range(1, test_model.state.size + 1):\n",
    "    boards = test_model.generate_random_states(12, (test_model.state.size - remaining_squares))\n",
    "    simulated_boards.append(boards) # there are 12 example boards for each level of filling"
   ]
  },
  {
   "cell_type": "markdown",
   "metadata": {},
   "source": [
    "First, we test the random bot for each example board"
   ]
  },
  {
   "cell_type": "code",
   "execution_count": 19,
   "metadata": {},
   "outputs": [
    {
     "name": "stdout",
     "output_type": "stream",
     "text": [
      "122 µs ± 2.68 µs per loop (mean ± std. dev. of 7 runs, 10,000 loops each)\n"
     ]
    }
   ],
   "source": [
    "%%timeit\n",
    "for board in simulated_boards[0]:\n",
    "    bot_player = 2 if np.count_nonzero(board==0) % 2 == 0 else 1\n",
    "    test_model.state == board\n",
    "    random_bot = RandomBot(test_model, bot_player)\n",
    "    random_bot.random_move()"
   ]
  },
  {
   "cell_type": "code",
   "execution_count": 20,
   "metadata": {},
   "outputs": [
    {
     "name": "stdout",
     "output_type": "stream",
     "text": [
      "121 µs ± 1.72 µs per loop (mean ± std. dev. of 7 runs, 10,000 loops each)\n"
     ]
    }
   ],
   "source": [
    "%%timeit\n",
    "for board in simulated_boards[3]:\n",
    "    bot_player = 2 if np.count_nonzero(board==0) % 2 == 0 else 1\n",
    "    test_model.state == board\n",
    "    random_bot = RandomBot(test_model, bot_player)\n",
    "    random_bot.random_move()"
   ]
  },
  {
   "cell_type": "code",
   "execution_count": 21,
   "metadata": {},
   "outputs": [
    {
     "name": "stdout",
     "output_type": "stream",
     "text": [
      "121 µs ± 1.83 µs per loop (mean ± std. dev. of 7 runs, 10,000 loops each)\n"
     ]
    }
   ],
   "source": [
    "%%timeit\n",
    "for board in simulated_boards[6]:\n",
    "    bot_player = 2 if np.count_nonzero(board==0) % 2 == 0 else 1\n",
    "    test_model.state == board\n",
    "    random_bot = RandomBot(test_model, bot_player)\n",
    "    random_bot.random_move()"
   ]
  },
  {
   "cell_type": "markdown",
   "metadata": {},
   "source": [
    "Now, we test the intelligent one"
   ]
  },
  {
   "cell_type": "code",
   "execution_count": 22,
   "metadata": {},
   "outputs": [
    {
     "name": "stdout",
     "output_type": "stream",
     "text": [
      "213 µs ± 68.7 µs per loop (mean ± std. dev. of 7 runs, 1,000 loops each)\n"
     ]
    }
   ],
   "source": [
    "%%timeit\n",
    "for board in simulated_boards[0]:\n",
    "    bot_player = 2 if np.count_nonzero(board==0) % 2 == 0 else 1\n",
    "    test_model.state == board\n",
    "    unbeatable_bot = UnbeatableBot(test_model, bot_player)\n",
    "    unbeatable_bot.make_move()"
   ]
  },
  {
   "cell_type": "code",
   "execution_count": 23,
   "metadata": {},
   "outputs": [
    {
     "name": "stdout",
     "output_type": "stream",
     "text": [
      "184 µs ± 12.1 µs per loop (mean ± std. dev. of 7 runs, 1,000 loops each)\n"
     ]
    }
   ],
   "source": [
    "%%timeit\n",
    "for board in simulated_boards[3]:\n",
    "    bot_player = 2 if np.count_nonzero(board==0) % 2 == 0 else 1\n",
    "    test_model.state == board\n",
    "    unbeatable_bot = UnbeatableBot(test_model, bot_player)\n",
    "    unbeatable_bot.make_move()"
   ]
  },
  {
   "cell_type": "code",
   "execution_count": 24,
   "metadata": {},
   "outputs": [
    {
     "name": "stdout",
     "output_type": "stream",
     "text": [
      "202 µs ± 11.8 µs per loop (mean ± std. dev. of 7 runs, 1,000 loops each)\n"
     ]
    }
   ],
   "source": [
    "%%timeit\n",
    "for board in simulated_boards[6]:\n",
    "    bot_player = 2 if np.count_nonzero(board==0) % 2 == 0 else 1\n",
    "    test_model.state == board\n",
    "    unbeatable_bot = UnbeatableBot(test_model, bot_player)\n",
    "    unbeatable_bot.make_move()"
   ]
  }
 ],
 "metadata": {
  "kernelspec": {
   "display_name": "Python 3.8.10 64-bit",
   "language": "python",
   "name": "python3"
  },
  "language_info": {
   "codemirror_mode": {
    "name": "ipython",
    "version": 3
   },
   "file_extension": ".py",
   "mimetype": "text/x-python",
   "name": "python",
   "nbconvert_exporter": "python",
   "pygments_lexer": "ipython3",
   "version": "3.8.10"
  },
  "orig_nbformat": 4,
  "vscode": {
   "interpreter": {
    "hash": "916dbcbb3f70747c44a77c7bcd40155683ae19c65e1c03b4aa3499c5328201f1"
   }
  }
 },
 "nbformat": 4,
 "nbformat_minor": 2
}
